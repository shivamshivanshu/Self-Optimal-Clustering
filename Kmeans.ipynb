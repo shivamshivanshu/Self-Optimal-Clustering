{
  "nbformat": 4,
  "nbformat_minor": 0,
  "metadata": {
    "colab": {
      "provenance": []
    },
    "kernelspec": {
      "name": "python3",
      "display_name": "Python 3"
    },
    "language_info": {
      "name": "python"
    }
  },
  "cells": [
    {
      "cell_type": "code",
      "source": [
        "import numpy as np\n",
        "import matplotlib.pyplot as plt\n",
        "from sklearn.cluster import KMeans\n",
        "from skimage import io\n",
        "from sklearn.metrics import silhouette_score\n",
        "\n",
        "# Load image\n",
        "x = np.genfromtxt('data.csv', delimiter=',')\n",
        "f, h = x.shape\n",
        "print(x.shape)\n",
        "\n",
        "# Convert image to a 2D array of pixels\n",
        "\n",
        "# Perform K-means clustering with k=5 clusters\n",
        "def squared_euclidean(u, v):\n",
        "    return np.sum((u - v) ** 2)\n",
        "K = 4\n",
        "kmeans = KMeans(n_clusters=K)\n",
        "kmeans.fit(x)\n",
        "centroids = kmeans.cluster_centers_\n",
        "\n",
        "# Assign each pixel to its nearest cluster center\n",
        "labels = kmeans.predict(x)\n",
        "global_silhouette_score = silhouette_score(x, labels, metric=squared_euclidean)\n",
        "print(global_silhouette_score)"
      ],
      "metadata": {
        "colab": {
          "base_uri": "https://localhost:8080/"
        },
        "id": "recPfn7I_97X",
        "outputId": "cc61e3c7-e223-49f1-93e9-7b93de40d50e"
      },
      "execution_count": null,
      "outputs": [
        {
          "output_type": "stream",
          "name": "stdout",
          "text": [
            "(4150, 3)\n"
          ]
        },
        {
          "output_type": "stream",
          "name": "stderr",
          "text": [
            "/usr/local/lib/python3.9/dist-packages/sklearn/cluster/_kmeans.py:870: FutureWarning: The default value of `n_init` will change from 10 to 'auto' in 1.4. Set the value of `n_init` explicitly to suppress the warning\n",
            "  warnings.warn(\n"
          ]
        },
        {
          "output_type": "stream",
          "name": "stdout",
          "text": [
            "0.7596139348888393\n"
          ]
        }
      ]
    },
    {
      "cell_type": "code",
      "source": [
        "#Fuzzy K Means\n",
        "import pandas as pd # reading all required header files\n",
        "import numpy as np\n",
        "import random\n",
        "import operator\n",
        "import math\n",
        "import matplotlib.pyplot as plt\n",
        "from scipy.stats import multivariate_normal\n",
        "from sklearn.datasets import load_iris\n",
        "\n",
        "\n",
        "iris = load_iris()\n",
        "df = pd.DataFrame(iris.data)\n",
        "data = np.array(df)\n",
        "n = len(df)  #number of data\n",
        "k = 3  #number of clusters\n",
        "d = 4  #dimension of cluster\n",
        "m = 2  #m parameter\n",
        "MAX_ITERS = 20  #number of iterations\n",
        "\n",
        "def init():\n",
        "  weight = np.random.dirichlet(np.ones(k),n)\n",
        "  weight_arr = np.array(weight)\n",
        "  return weight_arr\n",
        "\n",
        "\n",
        "def compute_centroids(weight):\n",
        "  C = []\n",
        "  for i in range(k):\n",
        "    _sum = np.power(weight[:,i],m).sum()\n",
        "    C_j = []\n",
        "    for x in range(d):\n",
        "      num = ( df.iloc[:,x].values * np.power(weight[:,i],m)).sum()\n",
        "      c_val = num/_sum;\n",
        "      C_j.append(c_val)\n",
        "    C.append(C_j)\n",
        "  return C\n",
        "\n",
        "\n",
        "def update_weights(weight,C):\n",
        "  den = np.zeros(n)\n",
        "  for i in range(k):\n",
        "    dist = (df.iloc[:,:].values - C[i])**2\n",
        "    dist = np.sum(dist, axis=1)\n",
        "    dist = np.sqrt(dist)\n",
        "    den  = den + np.power(1/dist,1/(m-1))\n",
        "\n",
        "  for i in range(k):\n",
        "    dist = (df.iloc[:,:].values - C[i])**2\n",
        "    dist = np.sum(dist, axis=1)\n",
        "    dist = np.sqrt(dist)\n",
        "    weight[:,i] = np.divide(np.power(1/dist,1/(m-1)),den)\n",
        "  return weight\n",
        "\n",
        "\n",
        "\n",
        "def Fuzzy_Means_Clustering():\n",
        "  weight = init()\n",
        "  plt.figure(figsize=(50,50))\n",
        "  for z in range(MAX_ITERS):\n",
        "    C = compute_centroids(weight)\n",
        "    update_weights(weight,C)\n",
        "  plt.show()\n",
        "  return (weight,C)\n",
        "\n",
        "\n",
        "\n",
        "final_weights, Centers = Fuzzy_Means_Clustering()\n",
        "\n",
        "from sklearn import metrics\n",
        "\n",
        "u = final_weights.shape[0]\n",
        "clusters = []\n",
        "for i in range(u):\n",
        "  clusters.append(np.argmax(final_weights[i]))\n",
        "GSS = metrics.silhouette_score(data, clusters, metric='euclidean')\n",
        "print(f\"GSS = {GSS}\")\n",
        "\n",
        "\n",
        "def plot_result():\n",
        "  df_sepal = df.iloc[:,0:2]\n",
        "  df_petal = df.iloc[:,2:5]\n",
        "\n",
        "  plt.figure(0,figsize=(5,5))                #scatter plot of sepal length vs sepal width\n",
        "  plt.scatter(list(df_sepal.iloc[:,0]), list(df_sepal.iloc[:,1]), marker='o')\n",
        "  plt.axis('equal')\n",
        "  plt.xlabel('Sepal Length', fontsize=16)\n",
        "  plt.ylabel('Sepal Width', fontsize=16)\n",
        "  plt.title('Sepal Plot', fontsize=25,color='b')\n",
        "  plt.grid()\n",
        "  for center in Centers:\n",
        "    plt.scatter(center[0],center[1], marker='o',color='r')\n",
        "  plt.show()\n",
        "\n",
        "  plt.figure(1,figsize=(5,5))                #scatter plot of sepal length vs sepal width\n",
        "  plt.scatter(list(df_petal.iloc[:,0]), list(df_petal.iloc[:,1]), marker='o')\n",
        "  plt.axis('equal')\n",
        "  plt.xlabel('petal Length', fontsize=16)\n",
        "  plt.ylabel('petal Width', fontsize=16)\n",
        "  plt.title('Petal Plot', fontsize=25,color='b')\n",
        "  plt.grid()\n",
        "  for center in Centers:\n",
        "    plt.scatter(center[2],center[3], marker='o',color='r')\n",
        "  plt.show()\n",
        "\n",
        "plot_result()\n"
      ],
      "metadata": {
        "id": "YTR7EicuIilA",
        "colab": {
          "base_uri": "https://localhost:8080/",
          "height": 1000
        },
        "outputId": "d98edcf6-8231-4c88-a3b2-eea7f15378c4"
      },
      "execution_count": null,
      "outputs": [
        {
          "output_type": "display_data",
          "data": {
            "text/plain": [
              "<Figure size 5000x5000 with 0 Axes>"
            ]
          },
          "metadata": {}
        },
        {
          "output_type": "stream",
          "name": "stdout",
          "text": [
            "GSS = 0.5270101525021651\n"
          ]
        },
        {
          "output_type": "display_data",
          "data": {
            "text/plain": [
              "<Figure size 500x500 with 1 Axes>"
            ],
            "image/png": "[encoded data removed]"
          },
          "metadata": {}
        },
        {
          "output_type": "display_data",
          "data": {
            "text/plain": [
              "<Figure size 500x500 with 1 Axes>"
            ],
            "image/png": "[encoded data removed]"
          },
          "metadata": {}
        }
      ]
    },
    {
      "cell_type": "code",
      "source": [
        "from sklearn import metrics\n",
        "from sklearn.metrics import pairwise_distances\n",
        "from sklearn import datasets\n",
        "X, y = datasets.load_iris(return_X_y=True)\n",
        "import numpy as np\n",
        "from sklearn.cluster import KMeans\n",
        "kmeans_model = KMeans(n_clusters=3, random_state=1).fit(X)\n",
        "labels = kmeans_model.labels_\n",
        "print(f\"GSI value = {metrics.silhouette_score(X, labels, metric='euclidean')}\")"
      ],
      "metadata": {
        "id": "1_NeJKEcIdqH",
        "colab": {
          "base_uri": "https://localhost:8080/"
        },
        "outputId": "10ba1354-1460-4046-94ba-ea128ea9a939"
      },
      "execution_count": null,
      "outputs": [
        {
          "output_type": "stream",
          "name": "stdout",
          "text": [
            "GSI value = 0.5528190123564095\n"
          ]
        },
        {
          "output_type": "stream",
          "name": "stderr",
          "text": [
            "/usr/local/lib/python3.9/dist-packages/sklearn/cluster/_kmeans.py:870: FutureWarning: The default value of `n_init` will change from 10 to 'auto' in 1.4. Set the value of `n_init` explicitly to suppress the warning\n",
            "  warnings.warn(\n"
          ]
        }
      ]
    },
    {
      "cell_type": "code",
      "source": [
        "# DUNN INDEX\n",
        "def compute_intra_cluster_diameters(X, labels):\n",
        "    n_clusters = len(set(labels))\n",
        "    cluster_diameters = np.zeros(n_clusters)\n",
        "    for i in range(n_clusters):\n",
        "        cluster_points = X[labels == i]\n",
        "        if len(cluster_points) > 1:\n",
        "            cluster_distances = np.linalg.norm(cluster_points[:, np.newaxis, :] - cluster_points[np.newaxis, :, :], axis=-1)\n",
        "            cluster_diameters[i] = np.max(cluster_distances)\n",
        "    return cluster_diameters\n",
        "\n",
        "def compute_inter_cluster_distances(X, labels):\n",
        "    n_clusters = len(set(labels))\n",
        "    intercluster_distances = np.zeros((n_clusters, n_clusters))\n",
        "    for i in range(n_clusters):\n",
        "        for j in range(i+1, n_clusters):\n",
        "            points_i = X[labels == i]\n",
        "            points_j = X[labels == j]\n",
        "            centroid_i = np.mean(points_i, axis=0)\n",
        "            centroid_j = np.mean(points_j, axis=0)\n",
        "            intercluster_distances[i, j] = np.linalg.norm(centroid_i - centroid_j)\n",
        "            intercluster_distances[j, i] = intercluster_distances[i, j]\n",
        "    return intercluster_distances\n",
        "\n",
        "def dunn_index(X, labels):\n",
        "    intra_cluster_diameters = compute_intra_cluster_diameters(X, labels)\n",
        "    max_intradist = np.max(intra_cluster_diameters)\n",
        "\n",
        "    inter_cluster_distances = compute_inter_cluster_distances(X, labels)\n",
        "    non_zero_interdist = inter_cluster_distances[inter_cluster_distances > 0]\n",
        "    min_interdist = np.min(non_zero_interdist) if non_zero_interdist.size > 0 else np.inf\n",
        "\n",
        "    return min_interdist / max_intradist\n",
        "\n",
        "\n",
        "print(f\"Dunn Index for Iris Dataset = {dunn_index(X, labels)}\")"
      ],
      "metadata": {
        "id": "M8o4VEWC3v5y",
        "colab": {
          "base_uri": "https://localhost:8080/"
        },
        "outputId": "5e0a990e-fba9-404a-a9f6-b0db01e8bd76"
      },
      "execution_count": null,
      "outputs": [
        {
          "output_type": "stream",
          "name": "stdout",
          "text": [
            "Dunn Index for Iris Dataset = 0.6711698417833859\n"
          ]
        }
      ]
    },
    {
      "cell_type": "markdown",
      "source": [
        "K Means and Metrics such as GSI and Dunn Index"
      ],
      "metadata": {
        "id": "tCybGAvyOdgH"
      }
    },
    {
      "cell_type": "code",
      "source": [
        "from PIL import Image\n",
        "import numpy as np\n",
        "img = Image.open(r\"/content/test.jpeg\")\n",
        "img = np.array(img)\n",
        "print(img.shape)\n",
        "x = np.reshape(img, (img.shape[0]*img.shape[1], 3))"
      ],
      "metadata": {
        "colab": {
          "base_uri": "https://localhost:8080/"
        },
        "id": "RvE0vQCwKdOm",
        "outputId": "fa476185-3ac9-4d1d-b7d6-e9922ad78da2"
      },
      "execution_count": null,
      "outputs": [
        {
          "output_type": "stream",
          "name": "stdout",
          "text": [
            "(30, 30, 3)\n"
          ]
        }
      ]
    },
    {
      "cell_type": "code",
      "source": [
        "for K in range(2, 5):\n",
        "    kmeans = KMeans(n_clusters=K)\n",
        "    kmeans.fit(x)\n",
        "    centroids = kmeans.cluster_centers_\n",
        "    labels = kmeans.predict(x)\n",
        "    global_silhouette_score = silhouette_score(x, labels, metric=squared_euclidean)\n",
        "    print(f\"GSS = {global_silhouette_score}  and Dunn = {dunn_index(x, labels)} for K = {K}\")\n",
        "\n"
      ],
      "metadata": {
        "colab": {
          "base_uri": "https://localhost:8080/"
        },
        "id": "bvYeqBCeODRd",
        "outputId": "8e8e59e1-18e9-4f05-e362-a58adebfe6bc"
      },
      "execution_count": null,
      "outputs": [
        {
          "output_type": "stream",
          "name": "stderr",
          "text": [
            "/usr/local/lib/python3.9/dist-packages/sklearn/cluster/_kmeans.py:870: FutureWarning: The default value of `n_init` will change from 10 to 'auto' in 1.4. Set the value of `n_init` explicitly to suppress the warning\n",
            "  warnings.warn(\n"
          ]
        },
        {
          "output_type": "stream",
          "name": "stdout",
          "text": [
            "GSS = 0.7574929790705345  and Dunn = 0.34857079938696456 for K = 2\n"
          ]
        },
        {
          "output_type": "stream",
          "name": "stderr",
          "text": [
            "/usr/local/lib/python3.9/dist-packages/sklearn/cluster/_kmeans.py:870: FutureWarning: The default value of `n_init` will change from 10 to 'auto' in 1.4. Set the value of `n_init` explicitly to suppress the warning\n",
            "  warnings.warn(\n"
          ]
        },
        {
          "output_type": "stream",
          "name": "stdout",
          "text": [
            "GSS = 0.7554912649281197  and Dunn = 0.2432378858184389 for K = 3\n"
          ]
        },
        {
          "output_type": "stream",
          "name": "stderr",
          "text": [
            "/usr/local/lib/python3.9/dist-packages/sklearn/cluster/_kmeans.py:870: FutureWarning: The default value of `n_init` will change from 10 to 'auto' in 1.4. Set the value of `n_init` explicitly to suppress the warning\n",
            "  warnings.warn(\n"
          ]
        },
        {
          "output_type": "stream",
          "name": "stdout",
          "text": [
            "GSS = 0.6798562424352856  and Dunn = 0.17915430468904925 for K = 4\n"
          ]
        }
      ]
    },
    {
      "cell_type": "code",
      "source": [
        "Img = Image.open(r\"/content/test.jpeg\")\n",
        "Img.show()"
      ],
      "metadata": {
        "colab": {
          "base_uri": "https://localhost:8080/",
          "height": 47
        },
        "id": "79tkmST4T7oc",
        "outputId": "16df9a60-7d27-4d92-dbc3-93c32ddbea23"
      },
      "execution_count": null,
      "outputs": [
        {
          "output_type": "display_data",
          "data": {
            "text/plain": [
              "<PIL.JpegImagePlugin.JpegImageFile image mode=RGB size=30x30 at 0x7FBF7A43C070>"
            ],
            "image/png": "[encoded data removed]"
          },
          "metadata": {}
        }
      ]
    },
    {
      "cell_type": "code",
      "source": [],
      "metadata": {
        "id": "_mSqOK8aaq0S"
      },
      "execution_count": null,
      "outputs": []
    }
  ]
}