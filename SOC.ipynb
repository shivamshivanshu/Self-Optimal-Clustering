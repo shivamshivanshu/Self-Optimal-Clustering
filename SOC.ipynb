{
  "nbformat": 4,
  "nbformat_minor": 0,
  "metadata": {
    "colab": {
      "provenance": []
    },
    "kernelspec": {
      "name": "python3",
      "display_name": "Python 3"
    },
    "language_info": {
      "name": "python"
    }
  },
  "cells": [
    {
      "cell_type": "code",
      "execution_count": null,
      "metadata": {
        "id": "-vAbHZM6Mzqy"
      },
      "outputs": [],
      "source": [
        "\n",
        "import numpy as np\n",
        "from sklearn import metrics\n"
      ]
    },
    {
      "cell_type": "markdown",
      "source": [
        "##### SOC_Data holds the value from a single call to SOC.soc()"
      ],
      "metadata": {
        "id": "2LPt2eUR3_aO"
      }
    },
    {
      "cell_type": "code",
      "source": [
        "class SOC_Data:\n",
        "    def __init__(self, dd, part, cc_norm, idx, c_disp, clst, m, SL, n, d1) -> None:\n",
        "        self.dd = dd\n",
        "        self.part = part\n",
        "        self.cc_norm = cc_norm\n",
        "        self.idx = idx\n",
        "        self.c_disp = c_disp\n",
        "        self.clst = clst\n",
        "        self.m = m\n",
        "        self.SL = SL\n",
        "        self.n = n\n",
        "        self.d1 = d1"
      ],
      "metadata": {
        "id": "ZoszQ2fJczqA"
      },
      "execution_count": null,
      "outputs": []
    },
    {
      "cell_type": "markdown",
      "source": [
        "##### SOC class takes two argument in constructor -> nk {number of cluster} and max_iter {maximum iteration if not converged before, set to 10 by default as per Paper}"
      ],
      "metadata": {
        "id": "DDn8_2744M1K"
      }
    },
    {
      "cell_type": "code",
      "source": [
        "class SOC:\n",
        "    def __init__(self, nk=4, max_iter=10) -> None:\n",
        "        self._nk = nk\n",
        "        self._max_iter = max_iter\n",
        "\n",
        "    def lagrangepoly(self, X, Y, XX=None, nargout=2):\n",
        "        # Make sure that X and Y are row vectors\n",
        "        if X.ndim > 1:\n",
        "            X = X.flatten()\n",
        "        if Y.ndim > 1:\n",
        "            Y = Y.flatten()\n",
        "        if X.ndim > 1 or Y.ndim > 1 or X.size != Y.size:\n",
        "            raise ValueError('both inputs must be equal-length vectors')\n",
        "\n",
        "        N = len(X)\n",
        "\n",
        "        pvals = np.zeros((N, N),dtype=np.double)\n",
        "\n",
        "        for i in range(N):\n",
        "            pp = np.poly(X[np.arange(N) != i])\n",
        "            pvals[i,:] = pp / np.polyval(pp, X[i])\n",
        "\n",
        "        P = np.dot(Y, pvals)\n",
        "\n",
        "        if XX is not None:\n",
        "            YY = np.polyval(P, XX)\n",
        "            # assign to output\n",
        "            P = YY\n",
        "\n",
        "        if nargout > 1:\n",
        "            R = np.roots(np.arange(N-1, -1, -1) * P[:N])\n",
        "            if nargout > 2:\n",
        "                S = np.polyval(P,R)\n",
        "                return P,R,S\n",
        "            else:\n",
        "                return P,R\n",
        "        else:\n",
        "            return P\n",
        "\n",
        "    def slht(self, s, idx, n, m):\n",
        "        S_const = np.zeros(self._nk, dtype=np.double)\n",
        "        for r in range(n):\n",
        "            S_const[int(idx[r])] += s[r]\n",
        "        S = np.zeros(self._nk, dtype=np.double)\n",
        "        for j in range(self._nk):\n",
        "            S[j] = (1/m[j]) * S_const[j]\n",
        "        GS = (1/self._nk) * np.sum(S)\n",
        "        return S, GS*1.3\n",
        "\n",
        "    def soc(self, x, factor):\n",
        "        n, k = x.shape\n",
        "        x_min = x.min(axis=0)\n",
        "        x_max = x.max(axis=0)\n",
        "        z = x_max - x_min\n",
        "        u = np.zeros((n, k))\n",
        "        for j in range(n):\n",
        "            y = x[j] - x_min\n",
        "            if np.all(z != 0):\n",
        "                w = y / z\n",
        "            else:\n",
        "                w = np.zeros(k)\n",
        "            u[j] = w\n",
        "\n",
        "        U = u.copy()\n",
        "        u = u.astype(float)\n",
        "        m = np.zeros(self._nk, dtype=np.double)\n",
        "        t = np.zeros(self._nk + 1, dtype=np.double)\n",
        "        t[0] = n\n",
        "\n",
        "        sl = np.zeros((n, self._nk+1), dtype=np.double)\n",
        "        for i in range(n):\n",
        "            sl[i][0] = i\n",
        "\n",
        "        d1 = np.zeros(self._nk, dtype=np.double)\n",
        "        P = np.zeros((n, self._nk), dtype=np.double)\n",
        "        ymax = np.zeros(self._nk, dtype=np.double)\n",
        "        zmax = np.zeros(self._nk, dtype=np.double)\n",
        "        SL = np.zeros((n, self._nk), dtype=np.double)\n",
        "        clst = np.zeros((n, k, self._nk), dtype=np.double)\n",
        "        c_disp = np.zeros((n, k, self._nk+1), dtype=np.double)\n",
        "        ex = np.zeros((n, k), dtype=np.double)\n",
        "        d = np.zeros(self._nk, dtype=np.double)\n",
        "        cc_norm = np.zeros((self._nk, k), dtype=np.double)\n",
        "\n",
        "        for v in range(self._nk):\n",
        "            if t[v] != 0: # vth cluster is not empty\n",
        "                d[v] = 0\n",
        "                for j in range(int(t[v])):\n",
        "                    if x[int(sl[j, v])].sum() != 0:\n",
        "                        d[v] += x[int(sl[j, v])].min() / x[int(sl[j, v])].sum()\n",
        "\n",
        "                d1[v] = (1 / (2 * t[v])) * d[v] * factor[v]\n",
        "\n",
        "                for r in range(int(t[v])):\n",
        "                    P[r, v] = 0\n",
        "                    for j in range(int(t[v])):\n",
        "                        P[r, v] += np.exp(-((u[r] - u[j]) @ (u[r] - u[j])) / (d1[v] ** 2))\n",
        "\n",
        "\n",
        "                ymax[v], zmax[v] = P[:, v].max(), int(P[:, v].argmax())\n",
        "                cc_norm[v] = u[int(zmax[v])]\n",
        "                cc_norm = cc_norm.astype(float)\n",
        "                for r in range(int(t[v])):\n",
        "                    if (u[r] - cc_norm[v]) @ (u[r] - cc_norm[v]) <= d1[v]:\n",
        "                        SL[int(m[v]), v] = sl[r, v]\n",
        "                        for i in range(k):\n",
        "                            clst[int(m[v]), i, v] = x[int(sl[r, v]), i]\n",
        "                            c_disp[int(sl[r, v]), i, v] = x[int(sl[r, v]), i]\n",
        "                            ex[int(sl[r, v]), i] = 255\n",
        "                        m[v] += 1\n",
        "                    else:\n",
        "                        sl[int(t[v + 1]), v + 1] = sl[r, v]\n",
        "                        for i in range(k):\n",
        "                            u[int(t[v + 1]), i] = u[r, i]\n",
        "                            ex[int(sl[r, v]), i] = x[int(sl[r, v]), i]\n",
        "                            c_disp[int(sl[r, v]), i, v] = 255\n",
        "                        t[v + 1] += 1\n",
        "                c_disp[:, :, v + 1] = ex\n",
        "\n",
        "\n",
        "        if t[self._nk] != 0:\n",
        "            D = np.zeros((self._nk, int(t[self._nk])), dtype=np.double)\n",
        "            for r in range(int(t[self._nk])):\n",
        "                for v in range(self._nk):\n",
        "                    D[v, r] = (u[r] - cc_norm[v]) @ (u[r] - cc_norm[v])\n",
        "            zmin = D.argmin(axis=0)\n",
        "            for r in range(int(t[self._nk])):\n",
        "                v = zmin[r]\n",
        "                SL[int(m[v]), v] = sl[r, self._nk]\n",
        "                clst[int(m[v]), :, v] = x[int(sl[r, self._nk])]\n",
        "                c_disp[int(sl[r, self._nk]), :, v] = x[int(sl[r, self._nk])]\n",
        "                m[v] += 1\n",
        "\n",
        "        dd = np.zeros((n, self._nk), dtype=np.double)\n",
        "        idx = np.zeros(n, dtype=np.double)\n",
        "        for r in range(n):\n",
        "            for v in range(self._nk):\n",
        "                if m[v] != 0:\n",
        "                    dd[r, v] = (U[r] - cc_norm[v]) @ (U[r] - cc_norm[v])\n",
        "                    for j in range(int(m[v])):\n",
        "                        if (x[r] == clst[j, :, v]).all():\n",
        "                            idx[r] = v\n",
        "\n",
        "        part = np.zeros((n, self._nk), dtype=np.double)\n",
        "        for j in range(n):\n",
        "            label = dd[j].argmin()\n",
        "            part[j, label] = 1\n",
        "\n",
        "        result = SOC_Data(\n",
        "        dd,\n",
        "        part,\n",
        "        cc_norm,\n",
        "        idx,\n",
        "        c_disp,\n",
        "        clst,\n",
        "        m,\n",
        "        SL,\n",
        "        n,\n",
        "        d1\n",
        "    )\n",
        "        return result\n",
        "\n",
        "\n",
        "    def squared_euclidean(self, u, v):\n",
        "        return np.sum((u - v) ** 2)\n",
        "\n",
        "    def factorcal(self, x,iter):\n",
        "        flag = 0\n",
        "        factor = np.ones((self._max_iter+1,self._nk))\n",
        "        GS = np.zeros((self._max_iter))\n",
        "        while iter < self._max_iter:\n",
        "            print(f\"current iteration = {iter}\")\n",
        "            result = self.soc(x,factor[iter,:])\n",
        "            s = metrics.silhouette_samples(x.astype(float), result.idx, metric=self.squared_euclidean)\n",
        "            S, GS[iter] = self.slht(s, result.idx, result.n, result.m)\n",
        "            if min(result.m) == 0:\n",
        "                flag = 1\n",
        "                break\n",
        "            for g in range(self._nk-1):\n",
        "                for gg in range(g+1,self._nk):\n",
        "                    if result.d1[g] == result.d1[gg]:\n",
        "                        flag = 1\n",
        "            if flag == 1:\n",
        "                break\n",
        "\n",
        "            polym, _ = self.lagrangepoly(result.d1,S)\n",
        "            polym[self._nk-1] -= 1\n",
        "            r = np.roots(polym)\n",
        "            sumn = np.zeros(r.shape, dtype=np.clongdouble)\n",
        "            for i in range(self._nk-1):\n",
        "                for j in range(self._nk):\n",
        "                    sumn[i] += polym[self._nk-j-1] * r[i]**(j)\n",
        "            label = np.argmin(np.abs(sumn))\n",
        "            dmax = abs(r[label])\n",
        "            factor[iter+1,:] = dmax/result.d1\n",
        "            iter += 1\n",
        "        label=np.argmax(GS)\n",
        "        fac=factor[label,:]\n",
        "        return fac\n",
        "\n",
        "\n",
        "    def fit(self, X):\n",
        "        fac = self.factorcal(X, 0)\n",
        "        result = self.soc(X, fac)\n",
        "        s = metrics.silhouette_samples(X.astype(float), result.idx)\n",
        "        _, GSS = self.slht(s, result.idx, result.n, result.m)\n",
        "\n",
        "        return GSS, s, result\n"
      ],
      "metadata": {
        "id": "XBMJQ7STbLXl"
      },
      "execution_count": null,
      "outputs": []
    },
    {
      "cell_type": "markdown",
      "source": [
        "##### Cluster results with nk = 4 and iter = 10 for image p2.jpg in the paper converted as csv for clustering"
      ],
      "metadata": {
        "id": "u9-qEPdS4jjK"
      }
    },
    {
      "cell_type": "code",
      "source": [
        "\n",
        "x = np.genfromtxt('data.csv', delimiter=',')\n",
        "f, h = x.shape\n",
        "nk = 4\n",
        "print(x.shape)\n",
        "\n",
        "soc_solver = SOC(nk = 4, max_iter = 10)\n",
        "GSS, _, _ = soc_solver.fit(x)\n",
        "\n",
        "print(f\"GSS = {GSS}\")"
      ],
      "metadata": {
        "id": "LowNNjYA9Tek",
        "colab": {
          "base_uri": "https://localhost:8080/"
        },
        "outputId": "f7fc6d4f-e65b-48ca-d81f-9a365d6a354d"
      },
      "execution_count": null,
      "outputs": [
        {
          "output_type": "stream",
          "name": "stdout",
          "text": [
            "(4150, 3)\n",
            "current iteration = 0\n",
            "current iteration = 1\n",
            "current iteration = 2\n",
            "current iteration = 3\n",
            "current iteration = 4\n",
            "current iteration = 5\n",
            "current iteration = 6\n",
            "current iteration = 7\n",
            "current iteration = 8\n",
            "current iteration = 9\n",
            "GSS = 0.6900696716856974\n"
          ]
        }
      ]
    },
    {
      "cell_type": "markdown",
      "source": [
        "##### Clustering performed on the Iris dataset"
      ],
      "metadata": {
        "id": "UlE-pm-r42qA"
      }
    },
    {
      "cell_type": "code",
      "source": [
        "from sklearn.datasets import load_iris\n",
        "iris = load_iris()\n",
        "X = iris.data\n",
        "\n",
        "for nk in range(3, 7):\n",
        "  soc_solver = SOC(nk)\n",
        "  GSS, _, _ = soc_solver.fit(X)\n",
        "  print(f\"GSS for iris dataset and nk = {nk} = {GSS}\")"
      ],
      "metadata": {
        "id": "CCEOSiiLBz4G",
        "colab": {
          "base_uri": "https://localhost:8080/"
        },
        "outputId": "badd3871-ec17-4d45-956b-1d0af1d63f87"
      },
      "execution_count": null,
      "outputs": [
        {
          "output_type": "stream",
          "name": "stdout",
          "text": [
            "current iteration = 0\n",
            "current iteration = 1\n",
            "current iteration = 2\n",
            "current iteration = 3\n",
            "current iteration = 4\n",
            "current iteration = 5\n",
            "current iteration = 6\n",
            "current iteration = 7\n",
            "current iteration = 8\n",
            "current iteration = 9\n",
            "GSS for iris dataset and nk = 3 = 0.7008619580801612\n",
            "current iteration = 0\n",
            "current iteration = 1\n",
            "GSS for iris dataset and nk = 4 = 0.5209531961186851\n",
            "current iteration = 0\n",
            "current iteration = 1\n",
            "current iteration = 2\n",
            "current iteration = 3\n",
            "current iteration = 4\n",
            "current iteration = 5\n",
            "current iteration = 6\n",
            "current iteration = 7\n",
            "current iteration = 8\n",
            "current iteration = 9\n",
            "GSS for iris dataset and nk = 5 = 0.4273074293360565\n",
            "current iteration = 0\n",
            "current iteration = 1\n",
            "current iteration = 2\n",
            "current iteration = 3\n",
            "current iteration = 4\n",
            "current iteration = 5\n",
            "current iteration = 6\n",
            "current iteration = 7\n",
            "current iteration = 8\n",
            "current iteration = 9\n",
            "GSS for iris dataset and nk = 6 = 0.43309544258144905\n"
          ]
        }
      ]
    },
    {
      "cell_type": "code",
      "source": [
        "from PIL import Image\n",
        "import numpy as np\n",
        "img = Image.open(r\"/content/test.jpeg\")\n",
        "img = np.array(img)\n",
        "print(img.shape)\n",
        "\n",
        "x = np.reshape(img, (img.shape[0]*img.shape[1], 3))\n",
        "for nk in range(2, 6):\n",
        "    soc_solver = SOC(nk, max_iter=5)\n",
        "    GSS, _, _ = soc_solver.fit(x)\n",
        "    print(f\"GSS value for {nk} cluster is {GSS}\")"
      ],
      "metadata": {
        "id": "tLyPgLci2UXu",
        "colab": {
          "base_uri": "https://localhost:8080/"
        },
        "outputId": "a8457dd8-2a36-4bab-b188-63ae9ac79c9f"
      },
      "execution_count": null,
      "outputs": [
        {
          "output_type": "stream",
          "name": "stdout",
          "text": [
            "(30, 30, 3)\n",
            "current iteration = 0\n",
            "current iteration = 1\n",
            "current iteration = 2\n",
            "current iteration = 3\n",
            "current iteration = 4\n",
            "GSS value for 2 cluster is 0.7376034952422351\n",
            "current iteration = 0\n",
            "current iteration = 1\n",
            "current iteration = 2\n",
            "current iteration = 3\n",
            "current iteration = 4\n",
            "GSS value for 3 cluster is 0.700698090859737\n",
            "current iteration = 0\n",
            "current iteration = 1\n",
            "current iteration = 2\n",
            "current iteration = 3\n",
            "current iteration = 4\n",
            "GSS value for 4 cluster is 0.5574579781616562\n",
            "current iteration = 0\n",
            "current iteration = 1\n",
            "current iteration = 2\n",
            "current iteration = 3\n",
            "current iteration = 4\n",
            "GSS value for 5 cluster is 0.5212111517091295\n"
          ]
        }
      ]
    },
    {
      "cell_type": "markdown",
      "source": [
        "Image used in above SOC algorithm"
      ],
      "metadata": {
        "id": "ZgTL5NQvSw0i"
      }
    },
    {
      "cell_type": "code",
      "source": [
        "Img = Image.open(r\"/content/test.jpeg\")\n",
        "Img.show()"
      ],
      "metadata": {
        "colab": {
          "base_uri": "https://localhost:8080/",
          "height": 47
        },
        "id": "4QLLOFWlOzLf",
        "outputId": "41eea31a-de3b-4d68-f211-1429b90b86cc"
      },
      "execution_count": null,
      "outputs": [
        {
          "output_type": "display_data",
          "data": {
            "text/plain": [
              "<PIL.JpegImagePlugin.JpegImageFile image mode=RGB size=30x30 at 0x7F40F9F88670>"
            ],
            "image/png": "[encoded data removed]"
          },
          "metadata": {}
        }
      ]
    },
    {
      "cell_type": "markdown",
      "source": [
        "Image converted as data.csv and used to calculate GSI values"
      ],
      "metadata": {
        "id": "Gyv7v8HHS6eK"
      }
    },
    {
      "cell_type": "code",
      "source": [
        "Img = Image.open(r\"/content/p2.jpg\")\n",
        "Img.show()"
      ],
      "metadata": {
        "colab": {
          "base_uri": "https://localhost:8080/",
          "height": 67
        },
        "id": "eiHe5a5gSOtw",
        "outputId": "92d9cfde-3b63-4872-ea2b-5ea8a2155132"
      },
      "execution_count": null,
      "outputs": [
        {
          "output_type": "display_data",
          "data": {
            "text/plain": [
              "<PIL.JpegImagePlugin.JpegImageFile image mode=RGB size=83x50 at 0x7F40F9F88D90>"
            ],
            "image/png": "[encoded data removed]"
          },
          "metadata": {}
        }
      ]
    },
    {
      "cell_type": "code",
      "source": [],
      "metadata": {
        "id": "k_wQrgsXlDCK"
      },
      "execution_count": null,
      "outputs": []
    }
  ]
}